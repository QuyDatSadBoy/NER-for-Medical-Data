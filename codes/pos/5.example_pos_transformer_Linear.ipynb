{
 "cells": [
  {
   "cell_type": "markdown",
   "id": "7efe5b00-cda0-4c3f-9cbc-6fd590ebb4a6",
   "metadata": {},
   "source": [
    "## Data"
   ]
  },
  {
   "cell_type": "code",
   "execution_count": 1,
   "id": "22382432-34a8-474b-9519-af1168597ea1",
   "metadata": {},
   "outputs": [],
   "source": [
    "import torch\n",
    "import torch.nn as nn\n",
    "from torchtext.data.utils import get_tokenizer\n",
    "from torchtext.vocab import build_vocab_from_iterator\n",
    "\n",
    "corpus = [\n",
    "    \"i like cats and dogs\",\n",
    "    \"books are expensive\"    \n",
    "]\n",
    "data_size = len(corpus)\n",
    "\n",
    "# 0: noun/pronoun - 1: verb - others - 2\n",
    "labels = [[0, 1, 0, 2, 0],\n",
    "          [0, 1, 2]]\n",
    "\n",
    "# Define the max vocabulary size and sequence length\n",
    "vocab_size = 10\n",
    "sequence_length = 5"
   ]
  },
  {
   "cell_type": "code",
   "execution_count": 2,
   "id": "2726650a-52ef-4150-9b09-0071d0ce2a31",
   "metadata": {},
   "outputs": [
    {
     "data": {
      "text/plain": [
       "{'books': 4,\n",
       " '<unk>': 0,\n",
       " 'expensive': 7,\n",
       " 'dogs': 6,\n",
       " 'and': 2,\n",
       " '<pad>': 1,\n",
       " 'are': 3,\n",
       " 'cats': 5,\n",
       " 'i': 8,\n",
       " 'like': 9}"
      ]
     },
     "execution_count": 2,
     "metadata": {},
     "output_type": "execute_result"
    }
   ],
   "source": [
    "# Define tokenizer function\n",
    "tokenizer = get_tokenizer('basic_english')\n",
    "\n",
    "# Create a function to yield list of tokens\n",
    "def yield_tokens(examples):\n",
    "    for text in examples:\n",
    "        yield tokenizer(text)\n",
    "\n",
    "# Create vocabulary\n",
    "vocab = build_vocab_from_iterator(yield_tokens(corpus),\n",
    "                                  max_tokens=vocab_size,\n",
    "                                  specials=[\"<unk>\", \"<pad>\"])\n",
    "vocab.set_default_index(vocab[\"<unk>\"])\n",
    "vocab.get_stoi()"
   ]
  },
  {
   "cell_type": "code",
   "execution_count": 3,
   "id": "3192fcd6-d411-4312-afcd-88fe4e64a8b9",
   "metadata": {},
   "outputs": [],
   "source": [
    "# Tokenize and numericalize your samples\n",
    "def vectorize(text, vocab, sequence_length, sequence_label):\n",
    "    tokens = tokenizer(text)\n",
    "    \n",
    "    token_ids = [vocab[token] for token in tokens]    \n",
    "    token_ids = token_ids + [vocab[\"<pad>\"]] * (sequence_length - len(tokens))\n",
    "    sequence_label = sequence_label + [3] * (sequence_length - len(tokens))\n",
    "    \n",
    "    return torch.tensor(token_ids, dtype=torch.long), torch.tensor(sequence_label, dtype=torch.long)\n",
    "\n",
    "# Vectorize the samples\n",
    "sentence_vecs = []\n",
    "label_vecs = []\n",
    "for sentence, labels in zip(corpus, labels):\n",
    "    sentence_vec, labels_vec = vectorize(sentence, vocab, sequence_length, labels)\n",
    "    sentence_vecs.append(sentence_vec)\n",
    "    label_vecs.append(labels_vec)"
   ]
  },
  {
   "cell_type": "code",
   "execution_count": 4,
   "id": "c1189966-b5d0-4bbe-9805-712e206b533c",
   "metadata": {},
   "outputs": [
    {
     "name": "stdout",
     "output_type": "stream",
     "text": [
      "tensor([8, 9, 5, 2, 6])\n",
      "tensor([4, 3, 7, 1, 1])\n"
     ]
    }
   ],
   "source": [
    "for v in sentence_vecs:\n",
    "    print(v)"
   ]
  },
  {
   "cell_type": "code",
   "execution_count": 5,
   "id": "e3e40856-0cc4-4f25-b704-05e9d4aaeb95",
   "metadata": {},
   "outputs": [
    {
     "name": "stdout",
     "output_type": "stream",
     "text": [
      "tensor([0, 1, 0, 2, 0])\n",
      "tensor([0, 1, 2, 3, 3])\n"
     ]
    }
   ],
   "source": [
    "for v in label_vecs:\n",
    "    print(v)"
   ]
  },
  {
   "cell_type": "code",
   "execution_count": null,
   "id": "5de2a679-494b-458d-b271-b10db85a2b70",
   "metadata": {},
   "outputs": [],
   "source": []
  },
  {
   "cell_type": "markdown",
   "id": "cd4c5571-1104-44a2-a066-2118f4861e9a",
   "metadata": {},
   "source": [
    "## Model"
   ]
  },
  {
   "cell_type": "code",
   "execution_count": 6,
   "id": "aa5b3565-d046-477c-9ae3-886294606c76",
   "metadata": {},
   "outputs": [],
   "source": [
    "class TransformerBlock(nn.Module):\n",
    "    def __init__(self, embed_dim, num_heads, ff_dim):\n",
    "        super().__init__()\n",
    "        self.attn = nn.MultiheadAttention(embed_dim=embed_dim, \n",
    "                                          num_heads=num_heads)\n",
    "        self.ffn = nn.Linear(in_features=embed_dim, \n",
    "                             out_features=ff_dim)\n",
    "        self.layernorm_1 = nn.LayerNorm(normalized_shape=embed_dim)\n",
    "        self.layernorm_2 = nn.LayerNorm(normalized_shape=embed_dim)\n",
    "\n",
    "    def forward(self, query, key, value):\n",
    "        attn_output, _ = self.attn(query, key, value)\n",
    "        out_1 = self.layernorm_1(query + attn_output)\n",
    "        ffn_output = self.ffn(out_1)\n",
    "        x = self.layernorm_2(out_1 + ffn_output)\n",
    "        return x"
   ]
  },
  {
   "cell_type": "code",
   "execution_count": 7,
   "id": "2c8843b2-83e1-408f-b9d1-0f7983cd7c59",
   "metadata": {},
   "outputs": [
    {
     "name": "stdout",
     "output_type": "stream",
     "text": [
      "POS_Model(\n",
      "  (embedding): Embedding(10, 5)\n",
      "  (transformer): TransformerBlock(\n",
      "    (attn): MultiheadAttention(\n",
      "      (out_proj): NonDynamicallyQuantizableLinear(in_features=5, out_features=5, bias=True)\n",
      "    )\n",
      "    (ffn): Linear(in_features=5, out_features=5, bias=True)\n",
      "    (layernorm_1): LayerNorm((5,), eps=1e-05, elementwise_affine=True)\n",
      "    (layernorm_2): LayerNorm((5,), eps=1e-05, elementwise_affine=True)\n",
      "  )\n",
      "  (fc): Linear(in_features=5, out_features=4, bias=True)\n",
      ")\n",
      "torch.Size([1, 4, 5])\n"
     ]
    }
   ],
   "source": [
    "class POS_Model(nn.Module):\n",
    "    def __init__(self, vocab_size, num_classes):\n",
    "        super().__init__()\n",
    "        self.embedding = nn.Embedding(vocab_size, 5)\n",
    "        self.transformer = TransformerBlock(5, 1, 5)\n",
    "        self.fc = nn.Linear(5, num_classes)\n",
    "\n",
    "    def forward(self, x):\n",
    "        x = self.embedding(x)\n",
    "        x = self.transformer(x, x, x)\n",
    "        x = self.fc(x)\n",
    "        return x.permute(0, 2, 1)\n",
    "\n",
    "num_classes = 4\n",
    "model = POS_Model(vocab_size, num_classes)\n",
    "print(model)\n",
    "\n",
    "# test\n",
    "data = torch.tensor([[3, 2, 3, 2, 1]]).long()\n",
    "output = model(data)\n",
    "print(output.shape)"
   ]
  },
  {
   "cell_type": "code",
   "execution_count": null,
   "id": "2028e52e-bee4-42f7-875a-f963218c80c5",
   "metadata": {},
   "outputs": [],
   "source": []
  },
  {
   "cell_type": "markdown",
   "id": "b547154b-2223-4e4f-a875-119ec33f9812",
   "metadata": {},
   "source": [
    "## Train with full data"
   ]
  },
  {
   "cell_type": "code",
   "execution_count": 8,
   "id": "32ed2deb-b3e3-4a70-8b85-c575001fc213",
   "metadata": {},
   "outputs": [],
   "source": [
    "criterion = nn.CrossEntropyLoss(ignore_index=3)\n",
    "optimizer = torch.optim.Adam(model.parameters(), lr=0.2)"
   ]
  },
  {
   "cell_type": "code",
   "execution_count": null,
   "id": "910680f9-acb5-493e-a194-a3f18f4788f0",
   "metadata": {},
   "outputs": [],
   "source": []
  },
  {
   "cell_type": "code",
   "execution_count": 9,
   "id": "cbee29f3-5988-4f5f-a9f1-fb13f137a91d",
   "metadata": {},
   "outputs": [
    {
     "name": "stdout",
     "output_type": "stream",
     "text": [
      "1.3730652332305908\n",
      "0.9424481987953186\n",
      "0.8031702637672424\n",
      "0.6116276979446411\n",
      "0.558436393737793\n",
      "0.3493475914001465\n",
      "0.2334384322166443\n",
      "0.14082038402557373\n",
      "0.9800198078155518\n",
      "0.24309507012367249\n",
      "0.28033679723739624\n",
      "0.12968376278877258\n",
      "0.12041982263326645\n",
      "0.09843364357948303\n",
      "0.07493124902248383\n"
     ]
    }
   ],
   "source": [
    "input_data = torch.tensor( [[8, 9, 5, 2, 6],\n",
    "                            [4, 3, 7, 1, 1]], dtype=torch.long)\n",
    "label_data = torch.tensor([[0, 1, 0, 2, 0],\n",
    "                           [0, 1, 2, 3, 3]], dtype=torch.long)\n",
    "\n",
    "for _ in range(15):\n",
    "    optimizer.zero_grad()\n",
    "    outputs = model(input_data)\n",
    "    loss = criterion(outputs, label_data)\n",
    "    print(loss.item())\n",
    "    loss.backward()\n",
    "    optimizer.step()"
   ]
  },
  {
   "cell_type": "code",
   "execution_count": 10,
   "id": "b562b790-b1f8-4e0c-a1cc-2453ee3f3a1a",
   "metadata": {},
   "outputs": [
    {
     "name": "stdout",
     "output_type": "stream",
     "text": [
      "[9.9209279e-01 7.6937717e-03 1.7033132e-04 4.3163454e-05]\n",
      "[2.8505813e-02 9.7148895e-01 1.6684228e-07 5.0659983e-06]\n",
      "[0.6495717  0.11612322 0.23328903 0.00101611]\n",
      "[2.3904698e-02 4.4751982e-07 9.7608352e-01 1.1419012e-05]\n",
      "[9.9863368e-01 4.1596583e-04 9.1880467e-04 3.1544521e-05]\n",
      "\n",
      "[9.6370602e-01 3.6170281e-02 7.2652954e-05 5.1175593e-05]\n",
      "[2.7319780e-02 9.7267514e-01 1.6742366e-07 5.0073004e-06]\n",
      "[2.0866888e-02 2.7849629e-07 9.7912335e-01 9.4053612e-06]\n",
      "[9.9363291e-01 6.1104833e-03 2.1325971e-04 4.3309446e-05]\n",
      "[4.0800458e-01 5.9195185e-01 5.8988999e-06 3.7583854e-05]\n"
     ]
    }
   ],
   "source": [
    "outputs = model(input_data)\n",
    "o_softmax = torch.softmax(outputs, axis=1)\n",
    "\n",
    "print(o_softmax[0, :, 0].detach().numpy())\n",
    "print(o_softmax[0, :, 1].detach().numpy())\n",
    "print(o_softmax[0, :, 2].detach().numpy())\n",
    "print(o_softmax[0, :, 3].detach().numpy())\n",
    "print(o_softmax[0, :, 4].detach().numpy())\n",
    "\n",
    "print()\n",
    "print(o_softmax[1, :, 0].detach().numpy())\n",
    "print(o_softmax[1, :, 1].detach().numpy())\n",
    "print(o_softmax[1, :, 2].detach().numpy())\n",
    "print(o_softmax[1, :, 3].detach().numpy())\n",
    "print(o_softmax[1, :, 4].detach().numpy())"
   ]
  },
  {
   "cell_type": "code",
   "execution_count": 11,
   "id": "7cd76225-a340-42ea-8352-81cdf3c56e99",
   "metadata": {},
   "outputs": [
    {
     "data": {
      "text/plain": [
       "tensor([[0, 1, 0, 2, 0],\n",
       "        [0, 1, 2, 0, 1]])"
      ]
     },
     "execution_count": 11,
     "metadata": {},
     "output_type": "execute_result"
    }
   ],
   "source": [
    "# [[0, 1, 0, 2, 0],\n",
    "#  [0, 1, 2, *, *]]\n",
    "\n",
    "o_softmax.argmax(axis=1)"
   ]
  },
  {
   "cell_type": "code",
   "execution_count": null,
   "id": "7e351ef5-c01e-47b9-8f2e-fbae9d0f2fa7",
   "metadata": {},
   "outputs": [],
   "source": []
  }
 ],
 "metadata": {
  "kernelspec": {
   "display_name": "Python 3 (ipykernel)",
   "language": "python",
   "name": "python3"
  },
  "language_info": {
   "codemirror_mode": {
    "name": "ipython",
    "version": 3
   },
   "file_extension": ".py",
   "mimetype": "text/x-python",
   "name": "python",
   "nbconvert_exporter": "python",
   "pygments_lexer": "ipython3",
   "version": "3.11.5"
  }
 },
 "nbformat": 4,
 "nbformat_minor": 5
}
