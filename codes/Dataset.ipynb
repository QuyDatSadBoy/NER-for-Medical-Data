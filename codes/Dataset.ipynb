{
 "cells": [
  {
   "cell_type": "markdown",
   "id": "9e400dd8-f333-4b5b-8e33-f659beb3f80e",
   "metadata": {},
   "source": [
    "## Dataset"
   ]
  },
  {
   "cell_type": "code",
   "execution_count": 8,
   "id": "0ef90857-5ae9-47e9-8a4c-7fa27f197117",
   "metadata": {},
   "outputs": [
    {
     "name": "stdout",
     "output_type": "stream",
     "text": [
      "['We are learning AI', 'AI is a CS topic']\n"
     ]
    }
   ],
   "source": [
    "import torch\n",
    "import torch.nn as nn\n",
    "from torch.utils.data import Dataset\n",
    "from transformers import AutoTokenizer\n",
    "\n",
    "tokenizer = AutoTokenizer.from_pretrained(\"bert-base-uncased\")\n",
    "sequence_length = 5\n",
    "\n",
    "sample1 = 'We are learning AI'\n",
    "sample2 = 'AI is a CS topic'\n",
    "sentences = [sample1, sample2]\n",
    "labels = [0, 1]\n",
    "print(sentences)"
   ]
  },
  {
   "cell_type": "code",
   "execution_count": 6,
   "id": "cb0849bd-b897-4fb6-8f04-17a0cc2cbf6c",
   "metadata": {},
   "outputs": [],
   "source": [
    "from torch.utils.data import Dataset\n",
    "\n",
    "class MyDataset(Dataset):\n",
    "    def __init__(self, sentences, labels, tokenizer, max_len):\n",
    "        super().__init__()\n",
    "        self.sentences = sentences\n",
    "        self.labels = labels\n",
    "        self.tokenizer = tokenizer\n",
    "        self.max_len = max_len\n",
    "\n",
    "    def __len__(self):\n",
    "        return len(self.sentences)\n",
    "    \n",
    "    def __getitem__(self, idx):\n",
    "        sentence = self.sentences[idx]\n",
    "        sentence_label = self.labels[idx]\n",
    "\n",
    "        tokens = sentence.split()\n",
    "        tokens = self.tokenizer.convert_tokens_to_ids(tokens)\n",
    "        tokens = self.pad_and_truncate(tokens)\n",
    "\n",
    "        return tokens, sentence_label\n",
    "    \n",
    "    def pad_and_truncate(self, tokens): \n",
    "        pad_id = self.tokenizer.pad_token_id\n",
    "        if len(tokens) < self.max_len:\n",
    "            padded_tokens = tokens + [pad_id] * (self.max_len - len(tokens))            \n",
    "        else:\n",
    "            padded_tokens = tokens[:self.max_len]\n",
    "            \n",
    "        return torch.tensor(padded_tokens)"
   ]
  },
  {
   "cell_type": "code",
   "execution_count": 9,
   "id": "e1bfe49f-19bf-401f-95d7-c30b435b9a2a",
   "metadata": {},
   "outputs": [],
   "source": [
    "from torch.utils.data import DataLoader\n",
    "\n",
    "train_set = MyDataset(sentences, labels, tokenizer, sequence_length)\n",
    "\n",
    "batch_size = 1\n",
    "train_loader = DataLoader(train_set, batch_size)"
   ]
  },
  {
   "cell_type": "code",
   "execution_count": 10,
   "id": "c69df00f-abe3-4f79-8fbe-9615aab3041c",
   "metadata": {},
   "outputs": [
    {
     "name": "stdout",
     "output_type": "stream",
     "text": [
      "tensor([[ 100, 2024, 4083,  100,    0]])\n",
      "tensor([0])\n",
      "tensor([[ 100, 2003, 1037,  100, 8476]])\n",
      "tensor([1])\n"
     ]
    }
   ],
   "source": [
    "for x,y in train_loader:\n",
    "    print(x)\n",
    "    print(y)"
   ]
  },
  {
   "cell_type": "code",
   "execution_count": null,
   "id": "7aac9981-c23c-40a8-983d-ac586248089d",
   "metadata": {},
   "outputs": [],
   "source": []
  },
  {
   "cell_type": "markdown",
   "id": "0c849846-559d-4186-a18a-e3fc97476ccd",
   "metadata": {},
   "source": [
    "## Embedding"
   ]
  },
  {
   "cell_type": "code",
   "execution_count": null,
   "id": "ccfc479f-5c26-4045-8c03-209e1d4cf791",
   "metadata": {},
   "outputs": [],
   "source": [
    "import torch.nn as nn\n",
    "\n",
    "embedding = nn.Embedding(vocab_size, 4)\n",
    "print(embedding)"
   ]
  },
  {
   "cell_type": "code",
   "execution_count": null,
   "id": "91752045-39cc-445c-b404-363f3960dbdf",
   "metadata": {},
   "outputs": [],
   "source": [
    "print(embedding.weight)"
   ]
  },
  {
   "cell_type": "code",
   "execution_count": null,
   "id": "21cd0037-0641-4d9d-a3ea-a868288499f2",
   "metadata": {},
   "outputs": [],
   "source": [
    "input1 = torch.tensor([0, 3, 6, 1, 0], dtype=torch.long)\n",
    "output1 = embedding(input1)\n",
    "print(output1)"
   ]
  }
 ],
 "metadata": {
  "kernelspec": {
   "display_name": "Python 3 (ipykernel)",
   "language": "python",
   "name": "python3"
  },
  "language_info": {
   "codemirror_mode": {
    "name": "ipython",
    "version": 3
   },
   "file_extension": ".py",
   "mimetype": "text/x-python",
   "name": "python",
   "nbconvert_exporter": "python",
   "pygments_lexer": "ipython3",
   "version": "3.11.5"
  }
 },
 "nbformat": 4,
 "nbformat_minor": 5
}
